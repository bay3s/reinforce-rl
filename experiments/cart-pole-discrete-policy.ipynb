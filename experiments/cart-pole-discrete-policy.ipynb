{
 "cells": [
  {
   "cell_type": "code",
   "execution_count": 84,
   "id": "234d14bb",
   "metadata": {},
   "outputs": [],
   "source": [
    "import os\n",
    "import sys\n",
    "from collections import deque\n",
    "\n",
    "import numpy as np\n",
    "import matplotlib.pyplot as plt\n",
    "\n",
    "import gym\n",
    "import torch\n",
    "import torch.nn as nn\n",
    "import torch.optim as optim\n",
    "from torch.distributions import Categorical\n",
    "\n",
    "# configure module & syspath\n",
    "module_path = os.path.abspath(os.path.join('../'))\n",
    "if module_path not in sys.path:\n",
    "    sys.path.append(module_path)\n",
    "\n",
    "from src.policies.discrete_policy import DiscretePolicy\n",
    "from src.utils import compute_loss"
   ]
  },
  {
   "cell_type": "code",
   "execution_count": 86,
   "id": "3202ebcf",
   "metadata": {},
   "outputs": [],
   "source": [
    "env = gym.make('CartPole-v0')\n",
    "\n",
    "rewards_queue = deque()\n",
    "rewards_ma = list()\n",
    "\n",
    "pi = DiscretePolicy(env.observation_space.shape[0], env.action_space.n)\n",
    "optimizer = optim.Adam(pi.parameters(), lr = 0.01)\n",
    "\n",
    "max_episodes = 300\n",
    "max_trajectory_length = 200\n",
    "discount_factor = 0.99\n",
    "\n",
    "for epi in range(max_episodes):\n",
    "    state, _ = env.reset()\n",
    "\n",
    "    for t in range(max_trajectory_length):\n",
    "        action = pi.act(torch.from_numpy(state.astype(np.float32)))\n",
    "        step_returned = env.step(action)\n",
    "        state, reward, done, _, _ = env.step(action)\n",
    "\n",
    "        pi.rewards.append(reward)\n",
    "        env.render()\n",
    "\n",
    "        if done:\n",
    "            break\n",
    "\n",
    "    loss = compute_loss(pi, optimizer, discount_factor)\n",
    "\n",
    "    total_reward = sum(pi.rewards)\n",
    "    solved = total_reward > 195.0\n",
    "\n",
    "    pi.reset()\n",
    "\n",
    "    if len(rewards_queue) > 20:\n",
    "        rewards_queue.popleft()\n",
    "\n",
    "    rewards_queue.append(total_reward)\n",
    "    mean_reward = np.mean(rewards_queue)\n",
    "    rewards_ma.append(mean_reward)\n",
    "\n",
    "    if solved:\n",
    "        break"
   ]
  },
  {
   "cell_type": "code",
   "execution_count": 87,
   "id": "5e40ca9f",
   "metadata": {},
   "outputs": [
    {
     "data": {
      "text/plain": [
       "[<matplotlib.lines.Line2D at 0x12e110eb0>]"
      ]
     },
     "execution_count": 87,
     "metadata": {},
     "output_type": "execute_result"
    },
    {
     "data": {
      "image/png": "[encoded data removed]",
      "text/plain": [
       "<Figure size 432x288 with 1 Axes>"
      ]
     },
     "metadata": {
      "needs_background": "light"
     },
     "output_type": "display_data"
    }
   ],
   "source": [
    "plt.plot(rewards_ma)"
   ]
  }
 ],
 "metadata": {
  "kernelspec": {
   "display_name": "Python 3",
   "language": "python",
   "name": "python3"
  },
  "language_info": {
   "codemirror_mode": {
    "name": "ipython",
    "version": 3
   },
   "file_extension": ".py",
   "mimetype": "text/x-python",
   "name": "python",
   "nbconvert_exporter": "python",
   "pygments_lexer": "ipython3",
   "version": "3.9.13"
  }
 },
 "nbformat": 4,
 "nbformat_minor": 5
}
