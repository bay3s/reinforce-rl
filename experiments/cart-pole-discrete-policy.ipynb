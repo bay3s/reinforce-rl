{
 "cells": [
  {
   "cell_type": "code",
   "execution_count": 5,
   "id": "234d14bb",
   "metadata": {},
   "outputs": [],
   "source": [
    "import os\n",
    "import sys\n",
    "from collections import deque\n",
    "\n",
    "import numpy as np\n",
    "import matplotlib.pyplot as plt\n",
    "from tqdm import tqdm\n",
    "\n",
    "import gym\n",
    "import torch\n",
    "import torch.nn as nn\n",
    "import torch.optim as optim\n",
    "\n",
    "# configure module & syspath\n",
    "module_path = os.path.abspath(os.path.join('../'))\n",
    "if module_path not in sys.path:\n",
    "    sys.path.append(module_path)\n",
    "\n",
    "from src.agents import DiscreteActionSpaceAgent\n",
    "from src.policies import CartPolePolicy"
   ]
  },
  {
   "cell_type": "code",
   "execution_count": 9,
   "id": "3202ebcf",
   "metadata": {},
   "outputs": [
    {
     "name": "stderr",
     "output_type": "stream",
     "text": [
      "  5%|███████████                                                                                                                                                                                                                       | 49/1000 [00:03<01:02, 15.26it/s]"
     ]
    },
    {
     "name": "stdout",
     "output_type": "stream",
     "text": [
      "Solved.\n"
     ]
    },
    {
     "name": "stderr",
     "output_type": "stream",
     "text": [
      "\n"
     ]
    },
    {
     "data": {
      "image/png": "[encoded data removed]",
      "text/plain": [
       "<Figure size 432x288 with 1 Axes>"
      ]
     },
     "metadata": {
      "needs_background": "light"
     },
     "output_type": "display_data"
    }
   ],
   "source": [
    "env = gym.make('CartPole-v1')\n",
    "\n",
    "rewards_queue = deque()\n",
    "rewards_ma = list()\n",
    "\n",
    "agent = DiscreteActionSpaceAgent(\n",
    "    CartPolePolicy(env.observation_space.shape[0], env.action_space.n),\n",
    "    discount_factor = 0.99,\n",
    "    use_baseline = True\n",
    ")\n",
    "\n",
    "optimizer = optim.Adam(agent.policy.parameters(), lr = 0.01)\n",
    "max_episodes = 1000\n",
    "max_trajectory_length = 200\n",
    "\n",
    "for _ in tqdm(range(max_episodes)):\n",
    "    state, _ = env.reset()\n",
    "\n",
    "    for t in range(max_trajectory_length):\n",
    "        action = agent.act(torch.from_numpy(state.astype(np.float32)))\n",
    "        state, reward, done, _, _ = env.step(action)\n",
    "        agent.rewards.append(reward)\n",
    "\n",
    "        if done:\n",
    "            break\n",
    "\n",
    "    agent.tune(optimizer)\n",
    "    total_reward = sum(agent.rewards)\n",
    "    agent.reset()\n",
    "\n",
    "    if len(rewards_queue) > 50:\n",
    "        rewards_queue.popleft()\n",
    "\n",
    "    if total_reward > 195.0:\n",
    "        print('Solved.')\n",
    "        plt.plot(rewards_ma)\n",
    "        break\n",
    "\n",
    "    rewards_queue.append(total_reward)\n",
    "    mean_reward = np.mean(rewards_queue)\n",
    "    rewards_ma.append(mean_reward)"
   ]
  },
  {
   "cell_type": "code",
   "execution_count": null,
   "id": "a15c94b0",
   "metadata": {},
   "outputs": [],
   "source": [
    "# using baseline\n",
    "env = gym.make('CartPole-v1')\n",
    "\n",
    "rewards_queue = deque()\n",
    "rewards_ma = list()\n",
    "\n",
    "agent = DiscreteActionSpaceAgent(\n",
    "    CartPolePolicy(env.observation_space.shape[0], env.action_space.n),\n",
    "    discount_factor = 0.99,\n",
    "    use_baseline = True\n",
    ")\n",
    "\n",
    "optimizer = optim.Adam(agent.policy.parameters(), lr = 0.01)\n",
    "max_episodes = 1000\n",
    "max_trajectory_length = 200\n",
    "\n",
    "for _ in tqdm(range(max_episodes)):\n",
    "    state, _ = env.reset()\n",
    "\n",
    "    for t in range(max_trajectory_length):\n",
    "        action = agent.act(torch.from_numpy(state.astype(np.float32)))\n",
    "        state, reward, done, _, _ = env.step(action)\n",
    "        agent.rewards.append(reward)\n",
    "\n",
    "        if done:\n",
    "            break\n",
    "\n",
    "    agent.tune(optimizer)\n",
    "    total_reward = sum(agent.rewards)\n",
    "    agent.reset()\n",
    "\n",
    "    if len(rewards_queue) > 50:\n",
    "        rewards_queue.popleft()\n",
    "        \n",
    "    if total_reward > 195.0:\n",
    "        print('Solved.')\n",
    "        plt.plot(rewards_ma)\n",
    "        break\n",
    "\n",
    "    rewards_queue.append(total_reward)\n",
    "    mean_reward = np.mean(rewards_queue)\n",
    "    rewards_ma.append(mean_reward)"
   ]
  }
 ],
 "metadata": {
  "kernelspec": {
   "display_name": "Python 3 (ipykernel)",
   "language": "python",
   "name": "python3"
  },
  "language_info": {
   "codemirror_mode": {
    "name": "ipython",
    "version": 3
   },
   "file_extension": ".py",
   "mimetype": "text/x-python",
   "name": "python",
   "nbconvert_exporter": "python",
   "pygments_lexer": "ipython3",
   "version": "3.9.13"
  }
 },
 "nbformat": 4,
 "nbformat_minor": 5
}
